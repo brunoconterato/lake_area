{
  "cells": [
    {
      "cell_type": "markdown",
      "metadata": {
        "id": "3ZLqMhUapp4O"
      },
      "source": [
        "# Exercício Python no notebook Google Colab"
      ]
    },
    {
      "cell_type": "markdown",
      "metadata": {
        "id": "2RVMzCvAyQtB"
      },
      "source": [
        "ATENÇÃO: Primeiro copie esse notebook para sua área, resolva-o e retorne o seu link no formulário, não esquecendo de compartilhar o seu notebook Colab com qualquer pessoa que tenha acesso ao link."
      ]
    },
    {
      "cell_type": "markdown",
      "metadata": {
        "id": "oiBYTaycO4AS"
      },
      "source": [
        "## Preencha seu nome e email:\n",
        "\n",
        "Nome: Bruno Henrique Conterato\n",
        "\n",
        "Email: brunoconterato@gmail.com"
      ]
    },
    {
      "cell_type": "markdown",
      "metadata": {
        "id": "0Zj3u99uRFqI"
      },
      "source": [
        "## Enunciado\n",
        "Você receberá uma matriz (uma lista de listas) de, possivelmente, altura e largura diferentes contendo apenas `0`s e `1`s. Cada `0` representa terra e cada `1` representa água. Uma lagoa é composta por qualquer número de `1`s verticalmente ou horizontalmente adjacentes (mas não diagonalmente adjacentes). O número de `1`s adjacentes determina a área da lagoa.\n",
        "\n",
        "Escreva uma função que retorna uma lista com as áreas das lagoas contidas na matriz em ordem crescente."
      ]
    },
    {
      "cell_type": "markdown",
      "metadata": {
        "id": "46MxEtZhVS1Q"
      },
      "source": [
        "Um exemplo é:\n",
        "\n",
        "Dada a matriz\n",
        "\n",
        "```\n",
        "matrix = [\n",
        "    [1, 1, 0, 1, 0],\n",
        "    [1, 0, 1, 0, 0],\n",
        "    [0, 0, 1, 0, 1],\n",
        "    [1, 0, 1, 0, 1],\n",
        "    [1, 0, 1, 1, 0]\n",
        "]\n",
        "```\n",
        "A resposta esperada é uma lista com os tamanhos dos rios\n",
        "\n",
        "```\n",
        "sizes = [1, 2, 2, 3, 5]\n",
        "```"
      ]
    },
    {
      "cell_type": "markdown",
      "metadata": {
        "id": "JH3Ixn1AUu8O"
      },
      "source": [
        "Os critérios de avaliação são legibilidade do código e corretude do algoritmo, outros aspectos como performance e técnicas de programação não serão avaliados."
      ]
    },
    {
      "cell_type": "markdown",
      "metadata": {
        "id": "JgW3yfL5Sux1"
      },
      "source": [
        "Você pode usar qualquer função built-in do python, pode utilizar funções auxiliares, criar classes e etc. Deve-se apenas manter a assinatura da função `lake_areas`. Na dúvida, submeter sua melhor tentativa documentando seu raciocínio é melhor do que não submeter nada :)"
      ]
    },
    {
      "cell_type": "code",
      "execution_count": 24,
      "metadata": {
        "id": "ZqixjszATBjE"
      },
      "outputs": [],
      "source": [
        "from typing import List, Tuple, Set\n",
        "\n",
        "def getUnvisitedNeighbours(matrix: List[List[int]], row: int, col: int, visited: List[List[bool]]) -> List[Tuple[int, int]]:\n",
        "    neighbours = []\n",
        "    if row > 0 and not visited[row-1][col]:\n",
        "        neighbours.append((row-1, col))\n",
        "    if row < len(matrix)-1 and not visited[row+1][col]:\n",
        "        neighbours.append((row+1, col))\n",
        "    if col > 0 and not visited[row][col-1]:\n",
        "        neighbours.append((row, col-1))\n",
        "    if col < len(matrix[0])-1 and not visited[row][col+1]:\n",
        "        neighbours.append((row, col+1))\n",
        "    return neighbours\n",
        "\n",
        "# Working solution: Recursive\n",
        "def get_lake_size(matrix: List[List[int]], row: int, col: int, visited: List[List[bool]]) -> int:\n",
        "    lake_size = 0\n",
        "    if matrix[row][col] == 1 and not visited[row][col]:\n",
        "        visited[row][col] = True    \n",
        "        lake_size = 1\n",
        "        for r, c in getUnvisitedNeighbours(matrix, row, col, visited):\n",
        "            lake_size += get_lake_size(matrix, r, c, visited)\n",
        "        return lake_size\n",
        "    return lake_size\n",
        "\n",
        "\n",
        "# Other Working Solution: DFS (using stack)\n",
        "# def get_lake_size(matrix: List[List[int]], row: int, col: int, visited: List[List[bool]]) -> int:\n",
        "#     lake_size = 0\n",
        "#     stack = [(row, col)]\n",
        "#     while stack:\n",
        "#         r, c = stack.pop()\n",
        "#         visited[r][c] = True\n",
        "#         if matrix[r][c] == 1:\n",
        "#             lake_size += 1\n",
        "#             neighbours = getUnvisitedNeighbours(matrix, r, c, visited)\n",
        "#             for nr, nc in neighbours:\n",
        "#                 visited[nr][nc] = True\n",
        "#                 stack.append((nr, nc))\n",
        "#         else:\n",
        "#             visited[r][c] = True\n",
        "#     return lake_size\n",
        "\n",
        "def lake_areas(matrix: List[List[int]]) -> List[int]:\n",
        "    visited = [[False for _ in range(len(matrix[0]))] for _ in range(len(matrix))]\n",
        "    result = []\n",
        "    for i in range(len(matrix)):\n",
        "        for j in range(len(matrix[0])):\n",
        "            if matrix[i][j] == 1 and not visited[i][j]:\n",
        "                lake_size = get_lake_size(matrix, i, j, visited)\n",
        "                lake_size > 0 and result.append(lake_size)\n",
        "    return list(sorted(result))"
      ]
    },
    {
      "cell_type": "code",
      "execution_count": 25,
      "metadata": {},
      "outputs": [
        {
          "data": {
            "text/plain": [
              "[1, 2, 2, 3, 5]"
            ]
          },
          "execution_count": 25,
          "metadata": {},
          "output_type": "execute_result"
        }
      ],
      "source": [
        "matrix = [\n",
        "    [1, 1, 0, 1, 0],\n",
        "    [1, 0, 1, 0, 0],\n",
        "    [0, 0, 1, 0, 1],\n",
        "    [1, 0, 1, 0, 1],\n",
        "    [1, 0, 1, 1, 0]\n",
        "]\n",
        "\n",
        "lake_areas(matrix)"
      ]
    },
    {
      "cell_type": "code",
      "execution_count": 26,
      "metadata": {},
      "outputs": [
        {
          "data": {
            "text/plain": [
              "[1, 3, 3, 5, 7]"
            ]
          },
          "execution_count": 26,
          "metadata": {},
          "output_type": "execute_result"
        }
      ],
      "source": [
        "matrix = [\n",
        "    [1, 1, 0, 1, 0, 1],\n",
        "    [1, 0, 1, 0, 0, 1],\n",
        "    [0, 0, 1, 0, 1, 1],\n",
        "    [1, 0, 1, 0, 1, 1],\n",
        "    [1, 0, 1, 1, 0, 1],\n",
        "    [1, 0, 0, 0, 0, 0]\n",
        "]\n",
        "lake_areas(matrix)"
      ]
    },
    {
      "cell_type": "code",
      "execution_count": 27,
      "metadata": {},
      "outputs": [
        {
          "data": {
            "text/plain": [
              "[33]"
            ]
          },
          "execution_count": 27,
          "metadata": {},
          "output_type": "execute_result"
        }
      ],
      "source": [
        "matrix = [\n",
        "    [1, 1, 1, 1, 1, 1],\n",
        "    [1, 1, 1, 1, 1, 1],\n",
        "    [1, 1, 1, 0, 1, 1],\n",
        "    [1, 1, 1, 0, 1, 1],\n",
        "    [1, 1, 1, 1, 1, 1],\n",
        "    [1, 1, 1, 1, 1, 0]\n",
        "]\n",
        "lake_areas(matrix)"
      ]
    },
    {
      "cell_type": "code",
      "execution_count": 28,
      "metadata": {},
      "outputs": [
        {
          "data": {
            "text/plain": [
              "[5, 22]"
            ]
          },
          "execution_count": 28,
          "metadata": {},
          "output_type": "execute_result"
        }
      ],
      "source": [
        "matrix = [\n",
        "    [1, 1, 1, 1, 0, 1],\n",
        "    [1, 1, 1, 1, 0, 1],\n",
        "    [1, 1, 1, 0, 0, 1],\n",
        "    [1, 1, 1, 0, 0, 1],\n",
        "    [1, 1, 1, 1, 0, 1],\n",
        "    [1, 1, 1, 1, 0, 0]\n",
        "]\n",
        "lake_areas(matrix)"
      ]
    },
    {
      "cell_type": "code",
      "execution_count": 29,
      "metadata": {},
      "outputs": [
        {
          "data": {
            "text/plain": [
              "[5, 8, 11]"
            ]
          },
          "execution_count": 29,
          "metadata": {},
          "output_type": "execute_result"
        }
      ],
      "source": [
        "matrix = [\n",
        "    [1, 1, 1, 1, 0, 1],\n",
        "    [1, 1, 1, 1, 0, 1],\n",
        "    [1, 1, 1, 0, 0, 1],\n",
        "    [0, 0, 0, 0, 0, 1],\n",
        "    [1, 1, 1, 1, 0, 1],\n",
        "    [1, 1, 1, 1, 0, 0]\n",
        "]\n",
        "lake_areas(matrix)"
      ]
    },
    {
      "cell_type": "code",
      "execution_count": 30,
      "metadata": {},
      "outputs": [
        {
          "data": {
            "text/plain": [
              "[1, 1, 1, 1, 1, 1, 1, 1, 1, 1, 1, 1, 1, 1, 1, 1, 1, 1]"
            ]
          },
          "execution_count": 30,
          "metadata": {},
          "output_type": "execute_result"
        }
      ],
      "source": [
        "matrix = [\n",
        "    [1, 0, 1, 0, 1, 0],\n",
        "    [0, 1, 0, 1, 0, 1],\n",
        "    [1, 0, 1, 0, 1, 0],\n",
        "    [0, 1, 0, 1, 0, 1],\n",
        "    [1, 0, 1, 0, 1, 0],\n",
        "    [0, 1, 0, 1, 0, 1]\n",
        "]\n",
        "lake_areas(matrix)"
      ]
    },
    {
      "cell_type": "code",
      "execution_count": 31,
      "metadata": {},
      "outputs": [
        {
          "data": {
            "text/plain": [
              "[]"
            ]
          },
          "execution_count": 31,
          "metadata": {},
          "output_type": "execute_result"
        }
      ],
      "source": [
        "matrix = [\n",
        "    [0, 0, 0],\n",
        "    [0, 0, 0],\n",
        "    [0, 0, 0],\n",
        "    [0, 0, 0]\n",
        "]\n",
        "lake_areas(matrix)"
      ]
    },
    {
      "cell_type": "code",
      "execution_count": 32,
      "metadata": {},
      "outputs": [
        {
          "data": {
            "text/plain": [
              "[1, 1, 2]"
            ]
          },
          "execution_count": 32,
          "metadata": {},
          "output_type": "execute_result"
        }
      ],
      "source": [
        "matrix = [\n",
        "    [1, 0, 0],\n",
        "    [0, 0, 0],\n",
        "    [1, 0, 0],\n",
        "    [1, 0, 1]\n",
        "]\n",
        "lake_areas(matrix)"
      ]
    },
    {
      "cell_type": "code",
      "execution_count": 33,
      "metadata": {},
      "outputs": [
        {
          "data": {
            "text/plain": [
              "[1, 3, 15]"
            ]
          },
          "execution_count": 33,
          "metadata": {},
          "output_type": "execute_result"
        }
      ],
      "source": [
        "matrix = [\n",
        "    [1, 1, 1],\n",
        "    [1, 1, 1],\n",
        "    [1, 1, 1],\n",
        "    [1, 1, 1],\n",
        "    [1, 1, 1],\n",
        "    [0, 0, 0],\n",
        "    [0, 1, 1],\n",
        "    [1, 0, 1]\n",
        "]\n",
        "lake_areas(matrix)"
      ]
    },
    {
      "cell_type": "code",
      "execution_count": 34,
      "metadata": {},
      "outputs": [
        {
          "data": {
            "text/plain": [
              "[12]"
            ]
          },
          "execution_count": 34,
          "metadata": {},
          "output_type": "execute_result"
        }
      ],
      "source": [
        "matrix = [\n",
        "    [0, 0, 0, 0, 0, 0],\n",
        "    [0, 1, 1, 1, 1, 0],\n",
        "    [0, 1, 0, 0, 1, 0],\n",
        "    [0, 1, 0, 0, 1, 0],\n",
        "    [0, 1, 1, 1, 1, 0],\n",
        "    [0, 0, 0, 0, 0, 0]\n",
        "]\n",
        "lake_areas(matrix)"
      ]
    }
  ],
  "metadata": {
    "colab": {
      "provenance": []
    },
    "kernelspec": {
      "display_name": "ai-twitter",
      "language": "python",
      "name": "python3"
    },
    "language_info": {
      "codemirror_mode": {
        "name": "ipython",
        "version": 3
      },
      "file_extension": ".py",
      "mimetype": "text/x-python",
      "name": "python",
      "nbconvert_exporter": "python",
      "pygments_lexer": "ipython3",
      "version": "3.9.15"
    },
    "vscode": {
      "interpreter": {
        "hash": "649f2d36a0b14b5a32554cfd786204f644a3bdf3dfb8396f7d4a57a1edba84af"
      }
    }
  },
  "nbformat": 4,
  "nbformat_minor": 0
}
